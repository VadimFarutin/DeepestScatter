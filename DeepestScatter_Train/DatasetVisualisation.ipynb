{
 "cells": [
  {
   "cell_type": "code",
   "execution_count": 6,
   "metadata": {},
   "outputs": [],
   "source": [
    "from lmdb import Environment\n",
    "import numpy as np\n",
    "import os\n",
    "import sys\n",
    "import ipyvolume as ipv\n",
    "import numpy as np\n",
    "import ipyvolume.pylab as p3\n",
    "from PythonProtocols.SceneSetup_pb2 import SceneSetup\n",
    "from PythonProtocols.ScatterSample_pb2 import ScatterSample\n",
    "from PythonProtocols.Result_pb2 import Result\n",
    "\n",
    "BATCH_SIZE = 2048\n",
    "\n",
    "class Dataset:\n",
    "    env = Environment(\"../Data/Dataset/Train.lmdb\", subdir=False, max_dbs=128, mode=0, create=False, readonly=True)\n",
    "    scatter_db = env.open_db(ScatterSample.DESCRIPTOR.full_name.encode('ascii'), integerkey=True, create=False)\n",
    "    scenes_db = env.open_db(SceneSetup.DESCRIPTOR.full_name.encode('ascii'), integerkey=True, create=False)\n",
    "    results_db = env.open_db(Result.DESCRIPTOR.full_name.encode('ascii'), integerkey=True, create=False)"
   ]
  },
  {
   "cell_type": "code",
   "execution_count": 10,
   "metadata": {},
   "outputs": [],
   "source": [
    "from PythonProtocols.SceneSetup_pb2 import SceneSetup\n",
    "\n",
    "dataset = Dataset()\n",
    "\n",
    "clouds = {}\n",
    "cloudNames = []\n",
    "\n",
    "with dataset.env.begin() as transaction:\n",
    "    cursor = transaction.cursor(dataset.scenes_db)\n",
    "    cursor.first()\n",
    "    for key, value in cursor:\n",
    "        scene = SceneSetup()\n",
    "        scene.ParseFromString(value)\n",
    "        if scene.cloud_path not in clouds.keys():\n",
    "            clouds[scene.cloud_path] = ([],[])\n",
    "            cloudNames.append(scene.cloud_path)\n",
    "        id = int.from_bytes(key, byteorder='little')\n",
    "        clouds[scene.cloud_path][0].append(id)\n",
    "        clouds[scene.cloud_path][1].append(scene)"
   ]
  },
  {
   "cell_type": "code",
   "execution_count": 11,
   "metadata": {},
   "outputs": [
    {
     "data": {
      "application/vnd.jupyter.widget-view+json": {
       "model_id": "9ed1edc8cfd14a9bbca2d7b5d9fa1f92",
       "version_major": 2,
       "version_minor": 0
      },
      "text/plain": [
       "interactive(children=(Dropdown(description='Cloud:', layout=Layout(width='50%'), options=('10_FREEBIE_CLOUDS\\\\…"
      ]
     },
     "metadata": {},
     "output_type": "display_data"
    }
   ],
   "source": [
    "from ipywidgets import interact, interactive, fixed, interact_manual\n",
    "import ipywidgets as widgets\n",
    "\n",
    "from PythonProtocols.ScatterSample_pb2 import ScatterSample\n",
    "from PythonProtocols.Result_pb2 import Result\n",
    "\n",
    "cloud = widgets.Dropdown(\n",
    "        options=cloudNames,\n",
    "        value=cloudNames[0],\n",
    "        description='Cloud:',\n",
    "        disabled=False,\n",
    "        layout=widgets.Layout(width='50%')\n",
    "    )\n",
    "\n",
    "scene = widgets.Dropdown(\n",
    "        options=clouds[cloudNames[0]][0],\n",
    "        value=clouds[cloudNames[0]][0][0],\n",
    "        description='Scene Id:',\n",
    "        disabled=False\n",
    "    )\n",
    "\n",
    "def update_scene_options(*args):\n",
    "    scene.options = clouds[cloud.value][0]\n",
    "    scene.value = clouds[cloud.value][0][0]\n",
    "    \n",
    "cloud.observe(update_scene_options, 'value')\n",
    "\n",
    "def update(cloud, sceneId):\n",
    "    dataset = Dataset()\n",
    "    \n",
    "    x = np.zeros(BATCH_SIZE)\n",
    "    y = np.zeros(BATCH_SIZE)\n",
    "    z = np.zeros(BATCH_SIZE)\n",
    "\n",
    "    u = np.zeros(BATCH_SIZE)\n",
    "    v = np.zeros(BATCH_SIZE)\n",
    "    w = np.zeros(BATCH_SIZE)\n",
    "\n",
    "    c = np.zeros((BATCH_SIZE, 3))\n",
    "    cSelected = np.zeros((BATCH_SIZE, 3))\n",
    "    \n",
    "    with dataset.env.begin() as transaction:\n",
    "        sample = ScatterSample()\n",
    "        radiance = Result()\n",
    "        for i in range(BATCH_SIZE):\n",
    "            id = sceneId * BATCH_SIZE + i\n",
    "            result = transaction.get(id.to_bytes(4, 'little'), db=dataset.scatter_db)\n",
    "            sample.ParseFromString(result)\n",
    "            x[i] = sample.point.x\n",
    "            y[i] = sample.point.y\n",
    "            z[i] = sample.point.z\n",
    "\n",
    "            u[i] = sample.view_direction.x\n",
    "            v[i] = sample.view_direction.y\n",
    "            w[i] = sample.view_direction.z\n",
    "            \n",
    "            result = transaction.get(id.to_bytes(4, 'little'), db=dataset.results_db)\n",
    "            radiance.ParseFromString(result)\n",
    "            \n",
    "            color = radiance.light_intensity\n",
    "            c[i, :] = [color, color * 0.8, color * 0.6]\n",
    "            \n",
    "\n",
    "        fig = ipv.figure(width=700, height=700, lighting=False)\n",
    "        ipv.quiver(x, y, z, u, v, w, color=c, size=2, color_selected='red', size_selected=2)\n",
    "        ipv.xyzlim(-0.5, 0.5)\n",
    "        ipv.pylab.style.set_style_dark()\n",
    "        ipv.pylab.style.box_off()\n",
    "        ipv.pylab.style.axes_off()\n",
    "        p3.selector_default()\n",
    "        fig.camera_control = 'orbit'\n",
    "        \n",
    "        def set_angles(fig, i, fraction):\n",
    "            print(i)\n",
    "            fig.angley = fraction*np.pi*2\n",
    "        p3.show()\n",
    "\n",
    "w = interactive(update, cloud=cloud, sceneId=scene)\n",
    "display(w)"
   ]
  },
  {
   "cell_type": "code",
   "execution_count": null,
   "metadata": {},
   "outputs": [],
   "source": []
  },
  {
   "cell_type": "code",
   "execution_count": null,
   "metadata": {},
   "outputs": [],
   "source": []
  },
  {
   "cell_type": "code",
   "execution_count": null,
   "metadata": {},
   "outputs": [],
   "source": []
  }
 ],
 "metadata": {
  "kernelspec": {
   "display_name": "Dataset_Train",
   "language": "python",
   "name": "dataset_train"
  },
  "language_info": {
   "codemirror_mode": {
    "name": "ipython",
    "version": 3
   },
   "file_extension": ".py",
   "mimetype": "text/x-python",
   "name": "python",
   "nbconvert_exporter": "python",
   "pygments_lexer": "ipython3",
   "version": "3.6.6"
  }
 },
 "nbformat": 4,
 "nbformat_minor": 2
}
